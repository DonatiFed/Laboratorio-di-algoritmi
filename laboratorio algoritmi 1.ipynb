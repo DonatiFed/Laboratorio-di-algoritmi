{
 "cells": [
  {
   "cell_type": "markdown",
   "metadata": {},
   "source": [
    "# Insertion-sort Vs Bubble-sort"
   ]
  },
  {
   "cell_type": "markdown",
   "metadata": {},
   "source": [
    "## Introduzione"
   ]
  },
  {
   "cell_type": "markdown",
   "metadata": {},
   "source": [
    "Vogliamo confrontare due diversi algoritmi di ordinamento di array, Insertion-sort e Bubble sort, analizzando il loro comportamento nel caso migliore, nel caso peggiore e nel caso medio. I due algoritmi verranno testati su array di diverse dimensioni, e in conclusione sarà possibile stabilire anche attraverso l'osservazione dei grafici quali siano le principali differenze tra i due e quali le somiglianze."
   ]
  },
  {
   "cell_type": "markdown",
   "metadata": {},
   "source": [
    "## La teoria"
   ]
  },
  {
   "cell_type": "markdown",
   "metadata": {},
   "source": [
    "### Insertion-sort"
   ]
  },
  {
   "cell_type": "markdown",
   "metadata": {},
   "source": [
    "Insertion-sort è un algoritmo piuttosto eficiente nel caso in cui il numero di elementi dell'array sia piccolo. Durante l'esecuzione ogni elemento viene inserito (da cui il nome) nella corretta posizione che dovrà occupare all'interno della permutazione finale.\n",
    "\n",
    "L'invariante di ciclo per l'insertion sort è la seguente: \n",
    "“All’inizio di ogni iterazione del ciclo for il sottoarray A[1 . . j − 1] è\n",
    "ordinato ed è formato dagli stessi elementi che erano originariamente\n",
    "in A[1 . . j − 1], ma ordinati”\n",
    "\n",
    "\n",
    "Algoritmo:"
   ]
  },
  {
   "cell_type": "code",
   "execution_count": 50,
   "metadata": {},
   "outputs": [
    {
     "name": "stdout",
     "output_type": "stream",
     "text": [
      "[14, 9, 5, 23, 57, 33]\n",
      "[9, 14, 5, 23, 57, 33]\n",
      "[5, 9, 14, 23, 57, 33]\n",
      "[5, 9, 14, 23, 57, 33]\n",
      "[5, 9, 14, 23, 57, 33]\n"
     ]
    }
   ],
   "source": [
    "A = [14, 9, 5, 23, 57, 33]\n",
    "\n",
    "for j in range(1,len(A)):\n",
    "    print(A)\n",
    "    key = A[j]\n",
    "    i = j-1\n",
    "    while i >= 0 and A[i] > key:\n",
    "        A[i+1] = A[i]\n",
    "        i = i-1\n",
    "    A[i+1] = key"
   ]
  },
  {
   "cell_type": "markdown",
   "metadata": {},
   "source": [
    "### Bubble-sort "
   ]
  },
  {
   "cell_type": "markdown",
   "metadata": {},
   "source": [
    "Bubble-sort è un algoritmo che riduce il problema dell'ordinamento al confronto e allo swap di elementi successivi,facendo affiorare il massimo verso il fondo dell'array.La condizione di arresto coincide con l'effettuare un'iterazione durante la quale non vengono identificati due elementi fuori ordine(e quindi non vengono effettuati swap). \n",
    "\n",
    "L'invariante di ciclo per il Bubble-sort è la seguente: \"All'inizio di ogni iterazione del ciclo esterno del bubble-sort, gli ultimi i elementi dell'array sono ordinati correttamente e si trovano nella loro posizione finale.\"\n",
    "\n",
    "Algoritmo:"
   ]
  },
  {
   "cell_type": "code",
   "execution_count": 51,
   "metadata": {},
   "outputs": [
    {
     "name": "stdout",
     "output_type": "stream",
     "text": [
      "[14, 9, 5, 23, 57, 33]\n",
      "[9, 5, 14, 23, 33, 57]\n",
      "[5, 9, 14, 23, 33, 57]\n"
     ]
    }
   ],
   "source": [
    "A = [14, 9, 5, 23, 57, 33]\n",
    "\n",
    "for i in range(len(A)):\n",
    "    print(A)\n",
    "    swapped=False\n",
    "    for j in range(0, len(A)-i-1):\n",
    "        if A[j]>A[j+1]:\n",
    "            A[j],A[j+1]=A[j+1],A[j]\n",
    "            swapped=True\n",
    "    if not swapped:\n",
    "        break    \n",
    "\n",
    "\n"
   ]
  },
  {
   "cell_type": "markdown",
   "metadata": {},
   "source": [
    "## La complessità"
   ]
  },
  {
   "cell_type": "markdown",
   "metadata": {},
   "source": [
    "### Insertion-sort"
   ]
  },
  {
   "cell_type": "markdown",
   "metadata": {},
   "source": [
    "Il caso migliore per l'insertion-sort coincide con un array già ordinato (ordine crescente degli elementi), nel qual caso la complessità dell'algoritmo è funzione lineare di n;\n",
    "\n",
    "Il caso peggiore per l'insertion-sort coincide con un array ordinato al contrario (ordine decrescente degli elementi), nel qual caso la compessità è funzione quadratica di n;\n",
    "\n",
    "Il caso medio per l'insertion-sort spesso è altrettanto cattivo del peggiore."
   ]
  },
  {
   "cell_type": "markdown",
   "metadata": {},
   "source": [
    "### Bubble-sort"
   ]
  },
  {
   "cell_type": "markdown",
   "metadata": {},
   "source": [
    "Il caso migliore per il bubble-sort coincide con un array già ordinato (ordine crescente degli elementi), nel qual caso la complessità dell'algoritmo è funzione lineare di n;\n",
    "\n",
    "Il caso peggiore per il bubble-sort coincide con un array ordinato al contrario (ordine decrescente degli elementi), nel qual caso la compessità è funzione quadratica di n;\n",
    "\n",
    "Il caso medio per il bubble-sort spesso è altrettanto cattivo del peggiore.\n",
    "\n",
    "L'algoritmo bubble-sort è fortemente asimmetrico, e un modo per migliorare la sua complessità può essere quello di alternare l'affioramneto del massimo verso il fondo e l'affioramento del minimo verso l'inizio dell'array, arrivando ad una complessità pari a Θ(n*k), dove k è il numero di elementi perturbati."
   ]
  },
  {
   "cell_type": "markdown",
   "metadata": {},
   "source": [
    "## Esperimenti"
   ]
  },
  {
   "cell_type": "markdown",
   "metadata": {},
   "source": [
    "Per testare i due algoritmi, essi verranno eseguiti su diversi array di dimensione sempre crescente da 1 a 1 000 000, formati da valori interi casuali.\n",
    "\n",
    " Verranno utilizzati grafici che mettono a confronto la crescita della dimensione dell'array con il tempo impiegato per l'esecuzione, e si verificherà quanto affermato nella sezione dedicata alla teoria, ovvero ci si aspetta che venga rispettata la complessità del caso medio.\n",
    "\n",
    " Infine si testeranno gli algoritmi nei casi rispettivamente peggiore e migliore, acìnche in questo caso con il supporto di grafici che metteranno in evidenza la relazione tra dimensione dell'input e tempo impiegato, e verrà verificata la complessità nel caso migliore e nel caso peggiore."
   ]
  },
  {
   "cell_type": "markdown",
   "metadata": {},
   "source": [
    "### Caso medio"
   ]
  },
  {
   "cell_type": "markdown",
   "metadata": {},
   "source": [
    "Andiamo per prima cosa a definire le due funzioni che verranno utilizzate per questi esperimenti:"
   ]
  },
  {
   "cell_type": "markdown",
   "metadata": {},
   "source": [
    "#### Definizione Insertion-sort"
   ]
  },
  {
   "cell_type": "code",
   "execution_count": 52,
   "metadata": {},
   "outputs": [],
   "source": [
    "def insertion_sort(A):\n",
    "    for j in range(1,len(A)):\n",
    "     key = A[j]\n",
    "     i = j-1\n",
    "     while i >= 0 and A[i] > key:\n",
    "        A[i+1] = A[i]\n",
    "        i = i-1\n",
    "     A[i+1] = key"
   ]
  },
  {
   "cell_type": "markdown",
   "metadata": {},
   "source": [
    "#### Definizione Bubble-sort"
   ]
  },
  {
   "cell_type": "code",
   "execution_count": 53,
   "metadata": {},
   "outputs": [],
   "source": [
    "import numpy as np\n",
    "import matplotlib.pyplot as plt \n",
    "\n",
    "def bubble_sort(A):\n",
    "    for i in range(len(A)):\n",
    "     swapped=False\n",
    "     for j in range(0, len(A)-i-1):\n",
    "        if A[j]>A[j+1]:\n",
    "            A[j],A[j+1]=A[j+1],A[j]\n",
    "            swapped=True\n",
    "     if not swapped:\n",
    "        break"
   ]
  },
  {
   "cell_type": "markdown",
   "metadata": {},
   "source": [
    "#### Esperimento Bubble-sort"
   ]
  },
  {
   "cell_type": "code",
   "execution_count": 54,
   "metadata": {},
   "outputs": [
    {
     "ename": "KeyboardInterrupt",
     "evalue": "",
     "output_type": "error",
     "traceback": [
      "\u001b[1;31m---------------------------------------------------------------------------\u001b[0m",
      "\u001b[1;31mKeyboardInterrupt\u001b[0m                         Traceback (most recent call last)",
      "Cell \u001b[1;32mIn[54], line 13\u001b[0m\n\u001b[0;32m     11\u001b[0m arr \u001b[38;5;241m=\u001b[39m np\u001b[38;5;241m.\u001b[39mrandom\u001b[38;5;241m.\u001b[39mrandint(\u001b[38;5;241m0\u001b[39m, \u001b[38;5;241m10000\u001b[39m, size\u001b[38;5;241m=\u001b[39mn)  \u001b[38;5;66;03m# Genera un array casuale di lunghezza n\u001b[39;00m\n\u001b[0;32m     12\u001b[0m start_time \u001b[38;5;241m=\u001b[39m time\u001b[38;5;241m.\u001b[39mtime()  \u001b[38;5;66;03m# Tempo di inizio\u001b[39;00m\n\u001b[1;32m---> 13\u001b[0m \u001b[43mbubble_sort\u001b[49m\u001b[43m(\u001b[49m\u001b[43marr\u001b[49m\u001b[43m)\u001b[49m  \u001b[38;5;66;03m# Chiama la funzione bubble_sort definita sopra\u001b[39;00m\n\u001b[0;32m     14\u001b[0m end_time \u001b[38;5;241m=\u001b[39m time\u001b[38;5;241m.\u001b[39mtime()  \u001b[38;5;66;03m# Tempo di fine\u001b[39;00m\n\u001b[0;32m     15\u001b[0m elapsed_time \u001b[38;5;241m=\u001b[39m end_time \u001b[38;5;241m-\u001b[39m start_time  \u001b[38;5;66;03m# Tempo trascorso\u001b[39;00m\n",
      "Cell \u001b[1;32mIn[53], line 8\u001b[0m, in \u001b[0;36mbubble_sort\u001b[1;34m(A)\u001b[0m\n\u001b[0;32m      6\u001b[0m swapped\u001b[38;5;241m=\u001b[39m\u001b[38;5;28;01mFalse\u001b[39;00m\n\u001b[0;32m      7\u001b[0m \u001b[38;5;28;01mfor\u001b[39;00m j \u001b[38;5;129;01min\u001b[39;00m \u001b[38;5;28mrange\u001b[39m(\u001b[38;5;241m0\u001b[39m, \u001b[38;5;28mlen\u001b[39m(A)\u001b[38;5;241m-\u001b[39mi\u001b[38;5;241m-\u001b[39m\u001b[38;5;241m1\u001b[39m):\n\u001b[1;32m----> 8\u001b[0m    \u001b[38;5;28;01mif\u001b[39;00m A[j]\u001b[38;5;241m>\u001b[39mA[j\u001b[38;5;241m+\u001b[39m\u001b[38;5;241m1\u001b[39m]:\n\u001b[0;32m      9\u001b[0m        A[j],A[j\u001b[38;5;241m+\u001b[39m\u001b[38;5;241m1\u001b[39m]\u001b[38;5;241m=\u001b[39mA[j\u001b[38;5;241m+\u001b[39m\u001b[38;5;241m1\u001b[39m],A[j]\n\u001b[0;32m     10\u001b[0m        swapped\u001b[38;5;241m=\u001b[39m\u001b[38;5;28;01mTrue\u001b[39;00m\n",
      "\u001b[1;31mKeyboardInterrupt\u001b[0m: "
     ]
    }
   ],
   "source": [
    "import numpy as np\n",
    "import matplotlib.pyplot as plt\n",
    "import time\n",
    "n_values = list(range(1, 10000))\n",
    "\n",
    "# Lista per memorizzare i tempi impiegati per ogni dimensione dell'array\n",
    "time_values = []\n",
    "\n",
    "# Esegui il bubble sort per ogni dimensione dell'array e misura il tempo\n",
    "for n in n_values:\n",
    "    arr = np.random.randint(0, 10000, size=n)  # Genera un array casuale di lunghezza n\n",
    "    start_time = time.time()  # Tempo di inizio\n",
    "    bubble_sort(arr)  # Chiama la funzione bubble_sort definita sopra\n",
    "    end_time = time.time()  # Tempo di fine\n",
    "    elapsed_time = end_time - start_time  # Tempo trascorso\n",
    "    time_values.append(elapsed_time)\n",
    "\n",
    "# Grafico dei tempi di esecuzione in funzione della dimensione dell'array    \n",
    "plt.subplot(2, 1, 1)\n",
    "plt.plot(n_values, time_values,linestyle='-',color='red')\n",
    "plt.title('Tempo impiegato da Bubble-sort')\n",
    "plt.xlabel('Dimensione dell\\'array (n)')\n",
    "plt.ylabel('Tempo impiegato (secondi)')\n",
    "\n",
    "plt.subplot(2, 1, 2)\n",
    "plt.plot(n_values,np.array(n_values) ** 2,linestyle='-')\n",
    "plt.title('$f(x) = x^2$')\n",
    "plt.grid(True)\n",
    "plt.subplots_adjust(hspace=0.8) \n",
    "plt.show()\n",
    "\n"
   ]
  },
  {
   "cell_type": "markdown",
   "metadata": {},
   "source": [
    "In questo esperimento stiamo eseguendo l'algoritmo Bubble-sort con array di ogni dimensione da 1 a 1000, e ogni array contiene valori da 1 a 1000. \n",
    "\n",
    "Lungo l'asse delle ascisse troviamo la dimensione dell'array n, mentre lungo l'asse delle ordinate troviamo il tempo impiegato per eseguire l'operazione.\n",
    "\n",
    "Il grafico della funzione tempo/dimensione assume la forma di una funzione quadratica, e questo rispetta le previsioni sull'esperimento riguardo alla complessità dell'algoritmo."
   ]
  },
  {
   "cell_type": "markdown",
   "metadata": {},
   "source": [
    "#### Esperimento Insertion-sort"
   ]
  },
  {
   "cell_type": "code",
   "execution_count": null,
   "metadata": {},
   "outputs": [
    {
     "data": {
      "image/png": "[encoded data removed]",
      "text/plain": [
       "<Figure size 640x480 with 2 Axes>"
      ]
     },
     "metadata": {},
     "output_type": "display_data"
    }
   ],
   "source": [
    "import numpy as np\n",
    "import matplotlib.pyplot as plt\n",
    "import time\n",
    "import math\n",
    "n_values = list(range(1, 10000))\n",
    "\n",
    "# Lista per memorizzare i tempi impiegati per ogni dimensione dell'array\n",
    "time_values = []\n",
    "\n",
    "# Esegui il bubble sort per ogni dimensione dell'array e misura il tempo\n",
    "for n in n_values:\n",
    "    arr = np.random.randint(0, 10000, size=n)  # Genera un array casuale di lunghezza n\n",
    "    start_time = time.time()  # Tempo di inizio\n",
    "    insertion_sort(arr)  # Chiama la funzione bubble_sort definita sopra\n",
    "    end_time = time.time()  # Tempo di fine\n",
    "    elapsed_time = end_time - start_time  # Tempo trascorso\n",
    "    time_values.append(elapsed_time)\n",
    "\n",
    "# Grafico dei tempi di esecuzione in funzione della dimensione dell'array\n",
    "plt.subplot(2, 1, 1)\n",
    "plt.plot(n_values, time_values, linestyle='-',color='red')\n",
    "plt.title('Tempo impiegato da Insertion-sort')\n",
    "plt.xlabel('Dimensione dell\\'array (n)')\n",
    "plt.ylabel('Tempo impiegato (secondi)')\n",
    "\n",
    "plt.subplot(2, 1, 2)\n",
    "plt.plot(n_values,np.array(n_values) ** 2,linestyle='-')\n",
    "plt.title('$f(x) = x^2$')\n",
    "plt.grid(True)\n",
    "plt.subplots_adjust(hspace=0.8) \n",
    "plt.show()"
   ]
  },
  {
   "cell_type": "markdown",
   "metadata": {},
   "source": [
    "Lo stesso esperimento è stato eseguito anche per l'insertion sort"
   ]
  }
 ],
 "metadata": {
  "kernelspec": {
   "display_name": "Python 3",
   "language": "python",
   "name": "python3"
  },
  "language_info": {
   "codemirror_mode": {
    "name": "ipython",
    "version": 3
   },
   "file_extension": ".py",
   "mimetype": "text/x-python",
   "name": "python",
   "nbconvert_exporter": "python",
   "pygments_lexer": "ipython3",
   "version": "3.12.2"
  }
 },
 "nbformat": 4,
 "nbformat_minor": 2
}
